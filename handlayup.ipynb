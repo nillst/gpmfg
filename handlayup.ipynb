{
 "cells": [
  {
   "cell_type": "code",
   "execution_count": 2,
   "metadata": {
    "collapsed": true
   },
   "outputs": [],
   "source": [
    "from gpkit import Model, Variable, units, parse_variables\n",
    "# from jho import aircraft"
   ]
  },
  {
   "cell_type": "markdown",
   "metadata": {},
   "source": [
    "## Generic Multi-Ply layup process"
   ]
  },
  {
   "cell_type": "markdown",
   "metadata": {},
   "source": [
    "Creates a generic multi-ply layup process using ACCEM equations. Recall the units for the ACCEM models are inches for length and hours for time. The generic multi-ply layup (similar to what Mike and the JHO team actually did)\n",
    "\n",
    "  * Cut plies from roll bulk material\n",
    "  * Saturate the plies with resin and then squegee excess\n",
    "  * Place ply on stack on mold\n",
    "  * Place peel-ply, breather, bag (and sometimes mylar to get a nice surface finish)\n",
    "  * Cure (won't count toward labor time)\n",
    "  * Remove bag, breather, flow medium\n",
    "  * Trim OML"
   ]
  },
  {
   "cell_type": "markdown",
   "metadata": {},
   "source": [
    "### Process models adapted from ACCEM and COSTADE"
   ]
  },
  {
   "cell_type": "markdown",
   "metadata": {},
   "source": [
    "#### Cut plies from bulk material\n",
    "Adapted from ACCEM equation F2"
   ]
  },
  {
   "cell_type": "markdown",
   "metadata": {},
   "source": [
    "$$ t = 0.05 + n_\\mathrm{plys}(0.0015 L_{trim}) $$"
   ]
  },
  {
   "cell_type": "markdown",
   "metadata": {},
   "source": [
    "| <td colspan=3> Geometry Variables |\n",
    "| -------------------------------- |\n",
    "| Variable | Description | Units |\n",
    "| $n_\\mathrm{plys}$ | Number of plys in the stack | $\\text{count}$ |\n",
    "| $L_\\mathrm{trim}$ | The perimeter of the ply to cut | $\\text{in}$ |"
   ]
  },
  {
   "cell_type": "markdown",
   "metadata": {},
   "source": [
    "#### Impregnate with dry ply with resin\n",
    "COSTADE 0040\n",
    "\n",
    "\n",
    "Explaination: Apply and smooth liquid resinwith a putty knife. Application is to both faces of an interface.\n",
    "\n",
    "\n",
    "EquationID : 14"
   ]
  },
  {
   "cell_type": "markdown",
   "metadata": {},
   "source": [
    "$$ t [\\text{minutes}] = 5 + n_\\mathrm{plys} \\left(1 + \\frac{A}{40} \\right) $$"
   ]
  },
  {
   "cell_type": "markdown",
   "metadata": {},
   "source": [
    "| <td colspan=3> Geometry Variables |\n",
    "| --------------------- |\n",
    "| Variable | Description | Units |\n",
    "| A | ply area | $\\text{in}^2$ |\n",
    "| $n_\\mathrm{plys}$ | Ply count | $\\text{count}$ |"
   ]
  },
  {
   "cell_type": "markdown",
   "metadata": {},
   "source": [
    "#### Layup plys directly on tool\n",
    "ACCEM equation L6"
   ]
  },
  {
   "cell_type": "markdown",
   "metadata": {},
   "source": [
    "$$ t [\\text{minutes}] = 0.05 + 0.000751 n_\\mathrm{plys} A_\\mathrm{layup}^{0.6295} $$"
   ]
  },
  {
   "cell_type": "markdown",
   "metadata": {},
   "source": [
    "| <td colspan=3> Geometry Variables |\n",
    "| --------------------- |\n",
    "| Variable | Description | Units |\n",
    "| A | Layup area | $\\text{in}^2$ |\n",
    "| $n_\\mathrm{plys}$ | Ply count | $\\text{count}$ |"
   ]
  },
  {
   "cell_type": "markdown",
   "metadata": {},
   "source": [
    "#### Net Trim Cured Part\n",
    "ACCEM equation F2"
   ]
  },
  {
   "cell_type": "markdown",
   "metadata": {},
   "source": [
    "$$ t = 3[\\text{minutes}] + \\frac{L_{trim}} {11}  $$"
   ]
  },
  {
   "cell_type": "markdown",
   "metadata": {},
   "source": [
    "| <td colspan=3> Geometry Variables |\n",
    "| -------------------------------- |\n",
    "| Variable | Description | Units |\n",
    "| $n_\\mathrm{plys}$ | Number of plys in the stack | $\\text{count}$ |\n",
    "| $L_\\mathrm{trim}$ | The perimeter of the layup to trim | $\\text{in}$ |"
   ]
  },
  {
   "cell_type": "markdown",
   "metadata": {},
   "source": [
    "### GPkit Model Implementation"
   ]
  },
  {
   "cell_type": "code",
   "execution_count": 1,
   "metadata": {
    "code_folding": [],
    "collapsed": true
   },
   "outputs": [],
   "source": [
    "# create the generic multi-layup process\n",
    "from gpkit import Model, Variable, parse_variables\n",
    "\n",
    "class MultiLayup(Model):\n",
    "    '''Generic process for creating a multi-ply composite part.\n",
    "    Includes processes for:\n",
    "        - Manually cutting plys from bulk material\n",
    "        - Impregnating the dry charges with resin\n",
    "        - Lay up the impregnated parts onto the tool\n",
    "    \n",
    "    Process Time Variables\n",
    "    ----------------------\n",
    "    t          [hrs]    Total part process time\n",
    "    tcut      [hrs]    Process time to cut the charges from broadgoods\n",
    "    tresin    [hrs]    Process time for putting resin into the \n",
    "    tlayup    [min]    Process time to layup the impregnated charges\n",
    "    ttrim     [min]    Process time to trim cured part\n",
    "    \n",
    "    Geometry Variables\n",
    "    ------------------\n",
    "    numplys      [count]    Number of plys in the layup\n",
    "    perimeter    [in]       Perimeter of the layup\n",
    "    area         [in^2]     Layup area\n",
    "    '''\n",
    "    def setup(self):\n",
    "        exec parse_variables(self.__doc__)\n",
    "        \n",
    "#         numplys = self.numplys = Variable('n_\\\\mathrm{plys}','count','Number of plys in the layup')\n",
    "#         perimeter = self.perimeter = Variable('l_\\\\mathrm{perimeter}','in','Perimeter length of the layup')\n",
    "#         area = self.area = Variable('A_\\\\marthrm{layup}','in^2','Area of the layup')\n",
    "        \n",
    "        constraints = [\n",
    "            t >= tcut + tresin + tlayup,\n",
    "            tcut >= 0.05*units('hrs') + numplys*(0.0015*units('hrs/in')*perimeter),                         # Cut out plys\n",
    "            tresin >= 5*units('min') + numplys*(1*units('min/count') + area/(40*units('in^2/min'))),        # Impregnate with resin\n",
    "            tlayup >= 3*units('min') + numplys*(units('hrs/count')*((area/units('in^2'))**0.6295/1331)),    # Layup Plies            \n",
    "        ]\n",
    "        return constraints"
   ]
  },
  {
   "cell_type": "markdown",
   "metadata": {},
   "source": [
    "## The Factory contains all the processes and calculates the labor rate"
   ]
  },
  {
   "cell_type": "code",
   "execution_count": 2,
   "metadata": {},
   "outputs": [],
   "source": [
    "class JHOFactory(Model):\n",
    "    '''evaluates the unit labor cost of manufacturing the input jho aircraft\n",
    "    \n",
    "    Input Variables\n",
    "    ---------------\n",
    "    plabor    100    [USD/hr]    labor cost rate\n",
    "    \n",
    "    Labor Variables\n",
    "    ---------------\n",
    "    tlabor    [hr]    total labor time\n",
    "    \n",
    "    Cost Variables\n",
    "    --------------\n",
    "    clabor    [USD]    total cost of labor\n",
    "    \n",
    "    Geometry Variables\n",
    "    ------------------\n",
    "    winga       [in^2]     Area of wing layers\n",
    "    wingp       [in]       Perimiter of wing ply stack\n",
    "    wingplys    [count]    Count of wing plys\n",
    "    fuesa       [in^2]     Area of fuselage\n",
    "    fuesp       [in]       Perimiter of fuselage ply stack\n",
    "    fuesplys    [count]    Count of plys in the fuselage stack\n",
    "\n",
    "        \n",
    "    '''\n",
    "    def setup(self):\n",
    "        exec parse_variables(self.__doc__)\n",
    "        processes = self.processes = dict()\n",
    "        processes['wing'] = MultiLayup()\n",
    "        processes['fuselage'] = MultiLayup()\n",
    "        \n",
    "        constraints = [\n",
    "            tlabor >= sum([p.t for p in processes.values()]),\n",
    "            clabor >= tlabor*plabor\n",
    "        ]\n",
    "        return self, constraints\n",
    "    \n",
    "#     def setup(self):\n",
    "# #         exec parse_variables(self.__doc__)\n",
    "#         processes = self.processes = dict()\n",
    "#         processes['wing'] = MultiLayup()\n",
    "#         processes['fuselage'] = MultiLayup()\n",
    "        \n",
    "#         constraints=[]\n",
    "        \n",
    "# #         constraints = [\n",
    "# #             tlabor >= sum([p.t for p in processes.values()]),\n",
    "# #             clabor >= plabor*tlabor\n",
    "# #         ]\n",
    "        \n",
    "#         return self, processes, constraints"
   ]
  }
 ],
 "metadata": {
  "hide_input": false,
  "kernelspec": {
   "display_name": "Python 2",
   "language": "python",
   "name": "python2"
  },
  "language_info": {
   "codemirror_mode": {
    "name": "ipython",
    "version": 2
   },
   "file_extension": ".py",
   "mimetype": "text/x-python",
   "name": "python",
   "nbconvert_exporter": "python",
   "pygments_lexer": "ipython2",
   "version": "2.7.12"
  },
  "toc": {
   "nav_menu": {},
   "number_sections": true,
   "sideBar": true,
   "skip_h1_title": true,
   "toc_cell": false,
   "toc_position": {},
   "toc_section_display": "block",
   "toc_window_display": false
  },
  "varInspector": {
   "cols": {
    "lenName": 16,
    "lenType": 16,
    "lenVar": 40
   },
   "kernels_config": {
    "python": {
     "delete_cmd_postfix": "",
     "delete_cmd_prefix": "del ",
     "library": "var_list.py",
     "varRefreshCmd": "print(var_dic_list())"
    },
    "r": {
     "delete_cmd_postfix": ") ",
     "delete_cmd_prefix": "rm(",
     "library": "var_list.r",
     "varRefreshCmd": "cat(var_dic_list()) "
    }
   },
   "types_to_exclude": [
    "module",
    "function",
    "builtin_function_or_method",
    "instance",
    "_Feature"
   ],
   "window_display": false
  }
 },
 "nbformat": 4,
 "nbformat_minor": 2
}
